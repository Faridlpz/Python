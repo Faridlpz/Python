{
 "cells": [
  {
   "cell_type": "code",
   "execution_count": 4,
   "metadata": {},
   "outputs": [
    {
     "name": "stdout",
     "output_type": "stream",
     "text": [
      "Is 10 too high (h), too low (l)c\n",
      "you winenr\n",
      "None\n"
     ]
    }
   ],
   "source": [
    "import random\n",
    "\n",
    "def guess(x):\n",
    "    random_number = random.randint(1,x)\n",
    "    guess = 0\n",
    "    while guess != random_number:\n",
    "        print(random_number)\n",
    "        guess = int(input(f\"Digite un numero de 1 a {x}: \"))\n",
    "        if guess<random_number:\n",
    "            print('Your number is less than random number')\n",
    "        elif guess>random_number:\n",
    "            print('Your number is greater than random number')\n",
    "        else:\n",
    "            print(\"You winner. \")\n",
    "            \n",
    "def computer_guess(x):\n",
    "    low = 1\n",
    "    high = x\n",
    "    feedback =''\n",
    "    while feedback !='c':\n",
    "        if low !=high:\n",
    "            guess = random.randint(low,high)\n",
    "        else:\n",
    "            guess=low \n",
    "            \n",
    "        feedback =input(f\"Is {guess} too high (h), too low (l)\").lower()\n",
    "        if feedback =='h':\n",
    "            high=guess-1\n",
    "        elif feedback == 'l':\n",
    "            low = guess +1\n",
    "\n",
    "    print('you winenr')\n",
    "    \n",
    "\n",
    "\n",
    "print(computer_guess(10))\n"
   ]
  },
  {
   "cell_type": "code",
   "execution_count": null,
   "metadata": {},
   "outputs": [],
   "source": []
  },
  {
   "cell_type": "code",
   "execution_count": null,
   "metadata": {},
   "outputs": [],
   "source": []
  }
 ],
 "metadata": {
  "kernelspec": {
   "display_name": "Python 3",
   "language": "python",
   "name": "python3"
  },
  "language_info": {
   "codemirror_mode": {
    "name": "ipython",
    "version": 3
   },
   "file_extension": ".py",
   "mimetype": "text/x-python",
   "name": "python",
   "nbconvert_exporter": "python",
   "pygments_lexer": "ipython3",
   "version": "3.7.9"
  }
 },
 "nbformat": 4,
 "nbformat_minor": 4
}
