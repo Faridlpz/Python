{
 "cells": [
  {
   "cell_type": "code",
   "execution_count": 4,
   "metadata": {},
   "outputs": [
    {
     "name": "stdout",
     "output_type": "stream",
     "text": [
      "Adjetive: as\n",
      "verb: as\n",
      "verb: as\n",
      "famous: as\n",
      "Coomputer programming is so as! It makes me so excited all the time because I love to as. Stay hydrated and as like you are as.\n"
     ]
    }
   ],
   "source": [
    "adj = input(\"Adjetive: \")\n",
    "verb1 = input(\"verb: \")\n",
    "verb2 = input(\"verb: \")\n",
    "famous = input(\"famous: \")\n",
    "\n",
    "\n",
    "madlib = f\"Coomputer programming is so {adj}! It makes me so excited all the time because \\\n",
    "I love to {verb1}. Stay hydrated and {verb2} like you are {famous}.\"\n",
    "\n",
    "\n",
    "print(madlib)"
   ]
  },
  {
   "cell_type": "code",
   "execution_count": null,
   "metadata": {},
   "outputs": [],
   "source": []
  }
 ],
 "metadata": {
  "kernelspec": {
   "display_name": "Python 3",
   "language": "python",
   "name": "python3"
  },
  "language_info": {
   "codemirror_mode": {
    "name": "ipython",
    "version": 3
   },
   "file_extension": ".py",
   "mimetype": "text/x-python",
   "name": "python",
   "nbconvert_exporter": "python",
   "pygments_lexer": "ipython3",
   "version": "3.7.9"
  }
 },
 "nbformat": 4,
 "nbformat_minor": 4
}
